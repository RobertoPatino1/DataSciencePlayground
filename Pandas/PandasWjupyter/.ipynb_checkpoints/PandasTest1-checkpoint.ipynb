{
 "cells": [
  {
   "cell_type": "code",
   "execution_count": 4,
   "id": "effc6d74",
   "metadata": {},
   "outputs": [
    {
     "name": "stdout",
     "output_type": "stream",
     "text": [
      "{1: ['Hola', 'Mundo', 'Que tal?'], 2: ['Esto', 'Es', 'Pandas']}\n",
      "          1       2\n",
      "1      Hola    Esto\n",
      "2     Mundo      Es\n",
      "3  Que tal?  Pandas\n"
     ]
    }
   ],
   "source": [
    "import pandas as pd\n",
    "\n",
    "ds = {1:[\"Hola\",\"Mundo\",\"Que tal?\"],2:[\"Esto\",\"Es\",\"Pandas\"]}\n",
    "print(ds)\n",
    "ds = pd.DataFrame(ds,index = [1,2,3])\n",
    "print(ds)"
   ]
  },
  {
   "cell_type": "code",
   "execution_count": null,
   "id": "559b4a01",
   "metadata": {},
   "outputs": [],
   "source": []
  },
  {
   "cell_type": "code",
   "execution_count": null,
   "id": "49ddbe34",
   "metadata": {},
   "outputs": [],
   "source": []
  }
 ],
 "metadata": {
  "kernelspec": {
   "display_name": "Python 3 (ipykernel)",
   "language": "python",
   "name": "python3"
  },
  "language_info": {
   "codemirror_mode": {
    "name": "ipython",
    "version": 3
   },
   "file_extension": ".py",
   "mimetype": "text/x-python",
   "name": "python",
   "nbconvert_exporter": "python",
   "pygments_lexer": "ipython3",
   "version": "3.9.12"
  }
 },
 "nbformat": 4,
 "nbformat_minor": 5
}
