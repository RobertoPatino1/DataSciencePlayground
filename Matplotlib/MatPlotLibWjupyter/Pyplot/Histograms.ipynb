{
 "cells": [
  {
   "cell_type": "code",
   "execution_count": 1,
   "id": "11bf0b5f",
   "metadata": {},
   "outputs": [],
   "source": [
    "import matplotlib.pyplot as plt\n",
    "import numpy as np"
   ]
  },
  {
   "cell_type": "code",
   "execution_count": 2,
   "id": "d1b91c19",
   "metadata": {},
   "outputs": [
    {
     "data": {
      "text/plain": [
       "(array([ 4., 13., 37., 61., 50., 58., 22.,  4.,  0.,  1.]),\n",
       " array([143.59404181, 149.74271513, 155.89138844, 162.04006176,\n",
       "        168.18873507, 174.33740839, 180.4860817 , 186.63475502,\n",
       "        192.78342833, 198.93210165, 205.08077496]),\n",
       " <BarContainer object of 10 artists>)"
      ]
     },
     "execution_count": 2,
     "metadata": {},
     "output_type": "execute_result"
    },
    {
     "data": {
      "image/png": "[encoded data removed]",
      "text/plain": [
       "<Figure size 432x288 with 1 Axes>"
      ]
     },
     "metadata": {
      "needs_background": "light"
     },
     "output_type": "display_data"
    }
   ],
   "source": [
    "#Podemos crear histogramas con la funcion hist\n",
    "x = np.random.normal(170, 10, 250)\n",
    "plt.hist(x,color = \"yellow\")\n",
    "#Esta funcion lee el array y presenta un histograma en funcion de este"
   ]
  },
  {
   "cell_type": "code",
   "execution_count": null,
   "id": "f56e6d6a",
   "metadata": {},
   "outputs": [],
   "source": []
  }
 ],
 "metadata": {
  "kernelspec": {
   "display_name": "Python 3 (ipykernel)",
   "language": "python",
   "name": "python3"
  },
  "language_info": {
   "codemirror_mode": {
    "name": "ipython",
    "version": 3
   },
   "file_extension": ".py",
   "mimetype": "text/x-python",
   "name": "python",
   "nbconvert_exporter": "python",
   "pygments_lexer": "ipython3",
   "version": "3.9.12"
  }
 },
 "nbformat": 4,
 "nbformat_minor": 5
}
